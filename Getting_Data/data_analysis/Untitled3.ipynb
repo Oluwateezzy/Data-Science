{
 "cells": [
  {
   "cell_type": "code",
   "execution_count": 1,
   "id": "d3e54a1a-e68a-43b9-a37a-372f4b8edb72",
   "metadata": {},
   "outputs": [
    {
     "data": {
      "text/plain": [
       "'Data Cleaning'"
      ]
     },
     "execution_count": 1,
     "metadata": {},
     "output_type": "execute_result"
    }
   ],
   "source": [
    "'Data Cleaning'"
   ]
  },
  {
   "cell_type": "code",
   "execution_count": 2,
   "id": "01536a64-586f-4b62-bf8b-6946ab33b28c",
   "metadata": {},
   "outputs": [],
   "source": [
    "import pandas as pd\n",
    "import numpy as np"
   ]
  },
  {
   "cell_type": "code",
   "execution_count": 3,
   "id": "39b5b0b0-ad64-41b1-bd72-87c525152208",
   "metadata": {},
   "outputs": [
    {
     "data": {
      "text/plain": [
       "True"
      ]
     },
     "execution_count": 3,
     "metadata": {},
     "output_type": "execute_result"
    }
   ],
   "source": [
    "pd.isnull(np.nan)"
   ]
  },
  {
   "cell_type": "code",
   "execution_count": null,
   "id": "7e929271-a9b9-4c50-bc06-a7f97cae1658",
   "metadata": {},
   "outputs": [],
   "source": [
    "8///////="
   ]
  }
 ],
 "metadata": {
  "kernelspec": {
   "display_name": "Python 3 (ipykernel)",
   "language": "python",
   "name": "python3"
  },
  "language_info": {
   "codemirror_mode": {
    "name": "ipython",
    "version": 3
   },
   "file_extension": ".py",
   "mimetype": "text/x-python",
   "name": "python",
   "nbconvert_exporter": "python",
   "pygments_lexer": "ipython3",
   "version": "3.10.3"
  }
 },
 "nbformat": 4,
 "nbformat_minor": 5
}
